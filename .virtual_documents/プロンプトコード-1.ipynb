








!git clone https://github.com/ARIM-Usecase/Example_2.git
%cd Example_2





# 汎用ライブラリ
import pandas as pd
import numpy as np

# 機械学習
from sklearn.model_selection import train_test_split
from sklearn.preprocessing import OneHotEncoder, StandardScaler
from sklearn.linear_model import LinearRegression
from sklearn.metrics import mean_squared_error, mean_absolute_error, r2_score
import tensorflow as tf
from tensorflow.keras.models import Sequential
from tensorflow.keras.layers import Dense, LeakyReLU
from tensorflow.keras.optimizers import Adam








# データの読み込み
data = pd.read_excel('data.xlsx',header = 1)
data





# OneHotエンコーディング
encoder = OneHotEncoder(drop='first', sparse=False)
tea_encoded = encoder.fit_transform(data[['tea']])

# エンコードされたteaをデータフレームに追加
encoded_columns = encoder.get_feature_names_out(['tea'])
data[encoded_columns] = tea_encoded

# 必要な説明変数と目的変数の抽出
X = data[['Concentration', 'time'] + list(encoded_columns)]
y = data[['Al', 'Ca', 'Cu', 'Fe', 'K', 'Mg', 'Mn', 'Na', 'Zn']]


X





# データの標準化
scaler = StandardScaler()
X_scaled = scaler.fit_transform(X)





# 教師データと検証データの分割
X_train, X_test, y_train, y_test = train_test_split(X_scaled, y, test_size=0.2, random_state=42)


X_train





# 多重線形回帰（MLR）のモデル構築と評価
mlr_model = LinearRegression()
mlr_results = {}
for mineral in y.columns:
    mlr_model.fit(X_train, y_train[mineral])
    y_pred = mlr_model.predict(X_test)
    r2 = r2_score(y_test[mineral], y_pred)
    rmse = np.sqrt(mean_squared_error(y_test[mineral], y_pred))
    mae = mean_absolute_error(y_test[mineral], y_pred)
    mlr_results[mineral] = {'R2': r2, 'RMSE': rmse, 'MAE': mae, 'Coef': mlr_model.coef_, 'Intercept': mlr_model.intercept_}

# MLRの結果表示
for mineral, result in mlr_results.items():
    print(f'{mineral} - Coefficients: {result["Coef"]}, Intercept: {result["Intercept"]}')
    print(f'R2: {result["R2"]}, RMSE: {result["RMSE"]}, MAE: {result["MAE"]}\n')





# ANNモデルの構築と評価
ann_results = {}
for mineral in y.columns:
    ann_model = Sequential()
    ann_model.add(Dense(18, input_dim=X_train.shape[1]))
    ann_model.add(LeakyReLU())
    ann_model.add(Dense(8))
    ann_model.add(LeakyReLU())
    ann_model.add(Dense(12))
    ann_model.add(LeakyReLU())
    ann_model.add(Dense(18))
    ann_model.add(LeakyReLU())
    ann_model.add(Dense(1))
    
    ann_model.compile(optimizer=Adam(learning_rate=0.0112), loss='mse')
    ann_model.fit(X_train, y_train[mineral], epochs=100, verbose=0)
    
    y_pred = ann_model.predict(X_test)
    r2 = r2_score(y_test[mineral], y_pred)
    rmse = np.sqrt(mean_squared_error(y_test[mineral], y_pred))
    mae = mean_absolute_error(y_test[mineral], y_pred)
    ann_results[mineral] = {'R2': r2, 'RMSE': rmse, 'MAE': mae}

# ANNの結果表示
for mineral, result in ann_results.items():
    print(f'{mineral} - R2: {result["R2"]}, RMSE: {result["RMSE"]}, MAE: {result["MAE"]}\n')
