{
 "cells": [
  {
   "cell_type": "markdown",
   "id": "452b121e-6539-4f6b-a261-77c621adbc31",
   "metadata": {},
   "source": [
    "# ARIM-Academy：　機器データ利活用ユースケース\n",
    "### タイトル：茶の抽出条件に関する機械学習/数学的最適化検討\n",
    "### 機器：誘導結合プラズマ発光分光分析法（ICP-OES）\n",
    "### 分析：回帰分析（線形重回帰分析、人工ニューラルネットワーク）"
   ]
  },
  {
   "cell_type": "markdown",
   "id": "a07f2911-6270-4fd8-a86a-f35896b898c1",
   "metadata": {},
   "source": [
    "\n",
    "---\n",
    "## データセット\n",
    "\n",
    "    \n",
    "本編で扱う 『茶の元素分析データセット』（data.xlsx）は、ブラックセイロン(BC)、ブラックトルコ(BT)、グリーンセイロン(GC)、グリーントルコ(GT)の4種類の茶葉について、3つの濃度（1%、2%、3%）で抽出した元素分析値の誘導結合プラズマ発光分光分析法（ICP-OES）の元素分析データです。[1]\n",
    "\n",
    "この研究では、機械学習（回帰分析としてMLR, ANN、および主成分分析、ISOMAP、階層クラスタ分析など）の手法を使い、茶の品種、濃度、浸出時間によるミネラル組成の変化を調査し、特定のミネラルレベルを調整する条件を見つける検討が行われています。\n",
    "\n",
    "[1]: Durmus, Y., Atasoy, A.D. & Atasoy, A.F. Mathematical optimization of multilinear and artificial neural network regressions for mineral composition of different tea types infusions. Sci Rep 14, 18285 (2024). https://doi.org/10.1038/s41598-024-69149-1\n",
    "\n",
    "---\n",
    "<br>  \n",
    "<img src=\"./img/main_image.jpg\" width=\"50%\">\n",
    "<br> \n",
    "\n",
    "---\n",
    "\n",
    "**Chemical composition** \n",
    "* 9種類の元素分析値（Al, Ca, Cu, Fe,K,Mg,Mn,Na,Zn） \n",
    "\n",
    "**Experimental parameters**  \n",
    "* Concentration：　お茶の濃度\n",
    "* time:　抽出時間\n",
    "\n",
    "**Label**\n",
    "* grouped:　品種・色・濃度・抽出時間を識別できる一種の試料名（MLは使用せず） \n",
    "* teaConc:　濃度ラベル（MLは使用せず）\n",
    "* tea_org:　色ラベル（MLは使用せず）\n",
    "* tea_var:　品種ラベル（MLは使用せず）\n",
    "* tea：　　 色と品種ラベル（MLで使用）\n",
    "\n",
    "---"
   ]
  },
  {
   "cell_type": "markdown",
   "id": "e760481e",
   "metadata": {},
   "source": [
    "### 教材への接続\n",
    "google colabにおけるオンラインの場合にこのラインを実行します。（<font color=\"red\">Google colabに接続しない場合には不要</font>）"
   ]
  },
  {
   "cell_type": "code",
   "execution_count": null,
   "id": "59cfd70a-e20a-4042-b243-0b65076cf558",
   "metadata": {},
   "outputs": [],
   "source": [
    "!git clone https://github.com/ARIM-Usecase/Example_2.git\n",
    "%cd Example_2"
   ]
  },
  {
   "cell_type": "markdown",
   "id": "8277ab39",
   "metadata": {},
   "source": [
    "---\n",
    "### ライブラリのインポート\n",
    "コード実行で必要なpythonのライブラリをimport文でロードします。"
   ]
  },
  {
   "cell_type": "code",
   "execution_count": 1,
   "id": "e6fb2524-308d-48c2-b87a-d9e675742a16",
   "metadata": {},
   "outputs": [],
   "source": [
    "# 汎用ライブラリ\n",
    "import pandas as pd\n",
    "import numpy as np\n",
    "import matplotlib.pyplot as plt\n",
    "import seaborn as sns\n",
    "\n",
    "\n",
    "# 機械学習\n",
    "from sklearn.model_selection import train_test_split\n",
    "from sklearn.preprocessing import OneHotEncoder, StandardScaler\n",
    "from sklearn.linear_model import LinearRegression\n",
    "from sklearn.metrics import mean_squared_error, mean_absolute_error, r2_score\n",
    "\n",
    "#深層学習\n",
    "import keras\n",
    "import tensorflow as tf\n",
    "from tensorflow.keras.models import Sequential\n",
    "from tensorflow.keras.layers import Dense, Input, Input, LeakyReLU\n",
    "from tensorflow.keras.optimizers import Adam\n",
    "\n",
    "import warnings\n",
    "warnings.filterwarnings('ignore')"
   ]
  },
  {
   "cell_type": "markdown",
   "id": "31440b31-95ef-4758-bb9d-bae46255a248",
   "metadata": {},
   "source": [
    "## 1.データセットの読み込みと前処理"
   ]
  },
  {
   "cell_type": "markdown",
   "id": "6bbc7d4f",
   "metadata": {},
   "source": [
    "### サンプルファイルの読み込み\n",
    "pandasライブラリのread_excel()関数は、Excelファイルを読み込んでpandasのDataFrame形式に変換する関数です。ここでは[data]フォルダーにあるdata.xlsxファイルをDataFrameとして読み込み、その結果をdfという変数に格納します。168のサンプルに対して16の特徴量からなるデータ行列となっています。"
   ]
  },
  {
   "cell_type": "code",
   "execution_count": 2,
   "id": "b09535a9-1bc4-40b1-bc1d-0e987052e2dd",
   "metadata": {},
   "outputs": [
    {
     "data": {
      "text/html": [
       "<div>\n",
       "<style scoped>\n",
       "    .dataframe tbody tr th:only-of-type {\n",
       "        vertical-align: middle;\n",
       "    }\n",
       "\n",
       "    .dataframe tbody tr th {\n",
       "        vertical-align: top;\n",
       "    }\n",
       "\n",
       "    .dataframe thead th {\n",
       "        text-align: right;\n",
       "    }\n",
       "</style>\n",
       "<table border=\"1\" class=\"dataframe\">\n",
       "  <thead>\n",
       "    <tr style=\"text-align: right;\">\n",
       "      <th></th>\n",
       "      <th>Al</th>\n",
       "      <th>Ca</th>\n",
       "      <th>Cu</th>\n",
       "      <th>Fe</th>\n",
       "      <th>K</th>\n",
       "      <th>Mg</th>\n",
       "      <th>Mn</th>\n",
       "      <th>Na</th>\n",
       "      <th>Zn</th>\n",
       "      <th>grouped</th>\n",
       "      <th>tea</th>\n",
       "      <th>Concentration</th>\n",
       "      <th>time</th>\n",
       "      <th>teaConc</th>\n",
       "      <th>tea_org</th>\n",
       "      <th>tea_var</th>\n",
       "    </tr>\n",
       "  </thead>\n",
       "  <tbody>\n",
       "    <tr>\n",
       "      <th>0</th>\n",
       "      <td>3.297</td>\n",
       "      <td>4.356</td>\n",
       "      <td>0.031290</td>\n",
       "      <td>0.067</td>\n",
       "      <td>99.06</td>\n",
       "      <td>3.531</td>\n",
       "      <td>1.455</td>\n",
       "      <td>0.541</td>\n",
       "      <td>0.131</td>\n",
       "      <td>Black Turkish 1 2</td>\n",
       "      <td>BT</td>\n",
       "      <td>1</td>\n",
       "      <td>2</td>\n",
       "      <td>BT1</td>\n",
       "      <td>black</td>\n",
       "      <td>turki</td>\n",
       "    </tr>\n",
       "    <tr>\n",
       "      <th>1</th>\n",
       "      <td>4.267</td>\n",
       "      <td>4.118</td>\n",
       "      <td>0.031290</td>\n",
       "      <td>0.079</td>\n",
       "      <td>106.50</td>\n",
       "      <td>3.378</td>\n",
       "      <td>1.542</td>\n",
       "      <td>0.603</td>\n",
       "      <td>0.126</td>\n",
       "      <td>Black Turkish 1 2</td>\n",
       "      <td>BT</td>\n",
       "      <td>1</td>\n",
       "      <td>2</td>\n",
       "      <td>BT1</td>\n",
       "      <td>black</td>\n",
       "      <td>turki</td>\n",
       "    </tr>\n",
       "    <tr>\n",
       "      <th>2</th>\n",
       "      <td>4.088</td>\n",
       "      <td>4.763</td>\n",
       "      <td>0.033370</td>\n",
       "      <td>0.084</td>\n",
       "      <td>114.00</td>\n",
       "      <td>4.763</td>\n",
       "      <td>1.838</td>\n",
       "      <td>1.058</td>\n",
       "      <td>0.156</td>\n",
       "      <td>Black Turkish 1 5</td>\n",
       "      <td>BT</td>\n",
       "      <td>1</td>\n",
       "      <td>5</td>\n",
       "      <td>BT1</td>\n",
       "      <td>black</td>\n",
       "      <td>turki</td>\n",
       "    </tr>\n",
       "    <tr>\n",
       "      <th>3</th>\n",
       "      <td>4.338</td>\n",
       "      <td>4.556</td>\n",
       "      <td>0.033370</td>\n",
       "      <td>0.091</td>\n",
       "      <td>122.60</td>\n",
       "      <td>5.005</td>\n",
       "      <td>2.269</td>\n",
       "      <td>0.958</td>\n",
       "      <td>0.162</td>\n",
       "      <td>Black Turkish 1 5</td>\n",
       "      <td>BT</td>\n",
       "      <td>1</td>\n",
       "      <td>5</td>\n",
       "      <td>BT1</td>\n",
       "      <td>black</td>\n",
       "      <td>turki</td>\n",
       "    </tr>\n",
       "    <tr>\n",
       "      <th>4</th>\n",
       "      <td>4.732</td>\n",
       "      <td>5.138</td>\n",
       "      <td>0.035514</td>\n",
       "      <td>0.110</td>\n",
       "      <td>132.40</td>\n",
       "      <td>5.626</td>\n",
       "      <td>2.998</td>\n",
       "      <td>1.510</td>\n",
       "      <td>0.165</td>\n",
       "      <td>Black Turkish 1 10</td>\n",
       "      <td>BT</td>\n",
       "      <td>1</td>\n",
       "      <td>10</td>\n",
       "      <td>BT1</td>\n",
       "      <td>black</td>\n",
       "      <td>turki</td>\n",
       "    </tr>\n",
       "    <tr>\n",
       "      <th>...</th>\n",
       "      <td>...</td>\n",
       "      <td>...</td>\n",
       "      <td>...</td>\n",
       "      <td>...</td>\n",
       "      <td>...</td>\n",
       "      <td>...</td>\n",
       "      <td>...</td>\n",
       "      <td>...</td>\n",
       "      <td>...</td>\n",
       "      <td>...</td>\n",
       "      <td>...</td>\n",
       "      <td>...</td>\n",
       "      <td>...</td>\n",
       "      <td>...</td>\n",
       "      <td>...</td>\n",
       "      <td>...</td>\n",
       "    </tr>\n",
       "    <tr>\n",
       "      <th>163</th>\n",
       "      <td>16.690</td>\n",
       "      <td>8.895</td>\n",
       "      <td>0.153000</td>\n",
       "      <td>0.236</td>\n",
       "      <td>323.40</td>\n",
       "      <td>20.450</td>\n",
       "      <td>10.420</td>\n",
       "      <td>6.360</td>\n",
       "      <td>0.335</td>\n",
       "      <td>Green Ceylan 3 30</td>\n",
       "      <td>GC</td>\n",
       "      <td>3</td>\n",
       "      <td>30</td>\n",
       "      <td>GC3</td>\n",
       "      <td>green</td>\n",
       "      <td>ceylon</td>\n",
       "    </tr>\n",
       "    <tr>\n",
       "      <th>164</th>\n",
       "      <td>17.620</td>\n",
       "      <td>8.909</td>\n",
       "      <td>0.177000</td>\n",
       "      <td>0.261</td>\n",
       "      <td>334.20</td>\n",
       "      <td>23.486</td>\n",
       "      <td>11.330</td>\n",
       "      <td>7.133</td>\n",
       "      <td>0.351</td>\n",
       "      <td>Green Ceylan 3 45</td>\n",
       "      <td>GC</td>\n",
       "      <td>3</td>\n",
       "      <td>45</td>\n",
       "      <td>GC3</td>\n",
       "      <td>green</td>\n",
       "      <td>ceylon</td>\n",
       "    </tr>\n",
       "    <tr>\n",
       "      <th>165</th>\n",
       "      <td>17.920</td>\n",
       "      <td>9.056</td>\n",
       "      <td>0.180000</td>\n",
       "      <td>0.266</td>\n",
       "      <td>332.30</td>\n",
       "      <td>22.840</td>\n",
       "      <td>11.290</td>\n",
       "      <td>7.609</td>\n",
       "      <td>0.358</td>\n",
       "      <td>Green Ceylan 3 45</td>\n",
       "      <td>GC</td>\n",
       "      <td>3</td>\n",
       "      <td>45</td>\n",
       "      <td>GC3</td>\n",
       "      <td>green</td>\n",
       "      <td>ceylon</td>\n",
       "    </tr>\n",
       "    <tr>\n",
       "      <th>166</th>\n",
       "      <td>17.820</td>\n",
       "      <td>9.128</td>\n",
       "      <td>0.175000</td>\n",
       "      <td>0.273</td>\n",
       "      <td>367.30</td>\n",
       "      <td>24.560</td>\n",
       "      <td>12.110</td>\n",
       "      <td>8.537</td>\n",
       "      <td>0.372</td>\n",
       "      <td>Green Ceylan 3 60</td>\n",
       "      <td>GC</td>\n",
       "      <td>3</td>\n",
       "      <td>60</td>\n",
       "      <td>GC3</td>\n",
       "      <td>green</td>\n",
       "      <td>ceylon</td>\n",
       "    </tr>\n",
       "    <tr>\n",
       "      <th>167</th>\n",
       "      <td>17.650</td>\n",
       "      <td>9.048</td>\n",
       "      <td>0.197000</td>\n",
       "      <td>0.285</td>\n",
       "      <td>358.40</td>\n",
       "      <td>24.340</td>\n",
       "      <td>12.310</td>\n",
       "      <td>8.631</td>\n",
       "      <td>0.378</td>\n",
       "      <td>Green Ceylan 3 60</td>\n",
       "      <td>GC</td>\n",
       "      <td>3</td>\n",
       "      <td>60</td>\n",
       "      <td>GC3</td>\n",
       "      <td>green</td>\n",
       "      <td>ceylon</td>\n",
       "    </tr>\n",
       "  </tbody>\n",
       "</table>\n",
       "<p>168 rows × 16 columns</p>\n",
       "</div>"
      ],
      "text/plain": [
       "         Al     Ca        Cu     Fe       K      Mg      Mn     Na     Zn  \\\n",
       "0     3.297  4.356  0.031290  0.067   99.06   3.531   1.455  0.541  0.131   \n",
       "1     4.267  4.118  0.031290  0.079  106.50   3.378   1.542  0.603  0.126   \n",
       "2     4.088  4.763  0.033370  0.084  114.00   4.763   1.838  1.058  0.156   \n",
       "3     4.338  4.556  0.033370  0.091  122.60   5.005   2.269  0.958  0.162   \n",
       "4     4.732  5.138  0.035514  0.110  132.40   5.626   2.998  1.510  0.165   \n",
       "..      ...    ...       ...    ...     ...     ...     ...    ...    ...   \n",
       "163  16.690  8.895  0.153000  0.236  323.40  20.450  10.420  6.360  0.335   \n",
       "164  17.620  8.909  0.177000  0.261  334.20  23.486  11.330  7.133  0.351   \n",
       "165  17.920  9.056  0.180000  0.266  332.30  22.840  11.290  7.609  0.358   \n",
       "166  17.820  9.128  0.175000  0.273  367.30  24.560  12.110  8.537  0.372   \n",
       "167  17.650  9.048  0.197000  0.285  358.40  24.340  12.310  8.631  0.378   \n",
       "\n",
       "                grouped tea  Concentration  time teaConc tea_org tea_var  \n",
       "0     Black Turkish 1 2  BT              1     2     BT1   black   turki  \n",
       "1     Black Turkish 1 2  BT              1     2     BT1   black   turki  \n",
       "2     Black Turkish 1 5  BT              1     5     BT1   black   turki  \n",
       "3     Black Turkish 1 5  BT              1     5     BT1   black   turki  \n",
       "4    Black Turkish 1 10  BT              1    10     BT1   black   turki  \n",
       "..                  ...  ..            ...   ...     ...     ...     ...  \n",
       "163   Green Ceylan 3 30  GC              3    30     GC3   green  ceylon  \n",
       "164   Green Ceylan 3 45  GC              3    45     GC3   green  ceylon  \n",
       "165   Green Ceylan 3 45  GC              3    45     GC3   green  ceylon  \n",
       "166   Green Ceylan 3 60  GC              3    60     GC3   green  ceylon  \n",
       "167   Green Ceylan 3 60  GC              3    60     GC3   green  ceylon  \n",
       "\n",
       "[168 rows x 16 columns]"
      ]
     },
     "execution_count": 2,
     "metadata": {},
     "output_type": "execute_result"
    }
   ],
   "source": [
    "# データの読み込み\n",
    "df = pd.read_excel('./data/data.xlsx',header = 1)\n",
    "df"
   ]
  },
  {
   "cell_type": "markdown",
   "id": "653c7004",
   "metadata": {},
   "source": [
    "### ペアプロット（散布図行列）\n",
    "\n",
    "茶の元素分析データセットにペアプロットを適用することで、以下の情報を得ることができます。\n",
    "\n",
    "* **特徴量間の関係**: 異なる特徴量間の関係を視覚的に確認できます。例えば、AlとZnが正の相関関係にあるか、負の相関関係にあるかなどを一目でわかります。\n",
    "* **クラス間の分離性**: 各品種（ブラックセイロン(BC)、ブラックトルコ(BT)、グリーンセイロン(GC)、グリーントルコ(GT)）のデータがどのように分布しているか、他の品種とどの程度分離しているかを確認できます。\n",
    "* **外れ値の検出**: データに含まれる外れ値を視覚的に確認することができます。\n",
    "* **特徴量選択**: どの特徴量が品種の分類に最も貢献しているか、あるいは冗長な特徴量があるかなどを判断する手がかりになります。"
   ]
  },
  {
   "cell_type": "code",
   "execution_count": null,
   "id": "29e5c540",
   "metadata": {},
   "outputs": [],
   "source": [
    "#　ペアプロットによる各変数間の二次元空間像（その２）\n",
    "sns.pairplot(df,hue='tea')\n",
    "plt.show()"
   ]
  },
  {
   "cell_type": "markdown",
   "id": "7e9ececc",
   "metadata": {},
   "source": [
    "## 2.　前処理\n",
    "### カテゴリカル変数のOne Hot Encoding化\n",
    "ワンホットエンコード（OneHot Encoding）とは、カテゴリカルデータ（質的変数）を数値ベースで表現するための手法です。カテゴリカルデータのようなデータが名前やラベルで示されている場合、数値としての大小関係や加減計算が適用できません。たとえば、「茶の銘柄」が「ブラックセイロン」、「グリーントルコ」、「ブラックトルコ」のようにカテゴリで示される場合、これらをそのまま数値として扱うことは適切ではありません。OneHotエンコードでは、カテゴリごとに専用のバイナリ（0または1）のフラグを持つベクトルに変換します。実際、「茶の銘柄」は以下のようにラベリングされています：\n",
    "\n",
    "| Index | 銘柄              |\n",
    "|:--------:|:--------:|\n",
    "| BC     | ブラックトルコ 　|\n",
    "| GT     | ブラックセイロン   |\n",
    "| BT     | グリーントルコ   |\n",
    "| BT     | グリーンセイロン  |\n",
    "\n",
    "このデータをOneHotエンコードすると、以下のような形式に変換されます：\n",
    "\n",
    "| Index | ブラックトルコ |ブラックセイロン  | グリーントルコ |グリーンセイロン | \n",
    "|:--------:|:--------:|:--------:|:--------:|:--------:|\n",
    "| BT     | 1                | 0              | 0              |0    |\n",
    "| BC     | 0                | 1              | 0              |0    |\n",
    "| GT     | 0                | 0              | 1              |0    |\n",
    "| GC     | 0                | 0              | 0              |0    |\n",
    "\n",
    "このように、各銘柄（カテゴリ）に対応する列が数値として生成され、該当するカテゴリのみ1、それ以外は0で表現されます。これにより、カテゴリカルデータを機械学習モデルに適用できる数値形式に変換できます。 \n",
    "\n",
    "Scikit-learnではOneHotEncoderクラスを使用して、質的変数のお茶の銘柄「tea」列の値を簡単にワンホットエンコーディング化することができます。"
   ]
  },
  {
   "cell_type": "code",
   "execution_count": 3,
   "id": "bf3a49fa-3fba-4307-9e58-8c5db89bfdc2",
   "metadata": {},
   "outputs": [],
   "source": [
    "# OneHotエンコーディング\n",
    "encoder = OneHotEncoder(drop='first', sparse_output=False)\n",
    "df_encoded = encoder.fit_transform(df[['tea']])\n",
    "\n",
    "# エンコードされたteaをデータフレームに追加\n",
    "encoded_columns = encoder.get_feature_names_out(['tea'])\n",
    "df[encoded_columns] = df_encoded"
   ]
  },
  {
   "cell_type": "markdown",
   "id": "b21a0887",
   "metadata": {},
   "source": [
    "【解説】**ワンホットエンコード（OneHot Encoding）クラス**  \n",
    "\n",
    "1. **`OneHotEncoder`のインスタンス作成**  \n",
    "   `OneHotEncoder`の基本とScikit-learnでの実装方法の解説です。\n",
    "  \n",
    "- **drop='first'**: この引数は、1つのカテゴリを基準カテゴリとしてドロップし、他のカテゴリをエンコードします。これにより、マルチコリニアリティ（相関が強すぎる変数）を避け、エンコードされた列の数を減らします。ドロップされなかったカテゴリは相対的に扱われます。\n",
    "\n",
    "- **sparse_output=False**: 結果をスパース行列（効率的にメモリを使う形式）ではなく、通常のNumPy配列で返すオプションです。\n",
    "\n",
    "2. **データの変換**  \n",
    "   `fit_transform`メソッドを使用して、カテゴリカルデータをOneHotエンコードします。"
   ]
  },
  {
   "cell_type": "markdown",
   "id": "427c15c5",
   "metadata": {},
   "source": [
    "### 説明変数と目的変数\n",
    "データフレームdfから、茶の濃度（Concentration）と浸出時間（time）に加えて、One Hot Encodingされたお茶の銘柄を説明変数とします。一方、目的変数は元素分析値のミネラル成分一式とします。"
   ]
  },
  {
   "cell_type": "code",
   "execution_count": 4,
   "id": "9f503375",
   "metadata": {},
   "outputs": [],
   "source": [
    "# 必要な説明変数と目的変数の抽出\n",
    "X = df[['Concentration', 'time'] + list(encoded_columns)]\n",
    "y = df[['Al', 'Ca', 'Cu', 'Fe', 'K', 'Mg', 'Mn', 'Na', 'Zn']]"
   ]
  },
  {
   "cell_type": "code",
   "execution_count": 5,
   "id": "8b70423c-bc5f-4038-881b-157b76c13431",
   "metadata": {},
   "outputs": [
    {
     "data": {
      "text/html": [
       "<div>\n",
       "<style scoped>\n",
       "    .dataframe tbody tr th:only-of-type {\n",
       "        vertical-align: middle;\n",
       "    }\n",
       "\n",
       "    .dataframe tbody tr th {\n",
       "        vertical-align: top;\n",
       "    }\n",
       "\n",
       "    .dataframe thead th {\n",
       "        text-align: right;\n",
       "    }\n",
       "</style>\n",
       "<table border=\"1\" class=\"dataframe\">\n",
       "  <thead>\n",
       "    <tr style=\"text-align: right;\">\n",
       "      <th></th>\n",
       "      <th>Concentration</th>\n",
       "      <th>time</th>\n",
       "      <th>tea_BT</th>\n",
       "      <th>tea_GC</th>\n",
       "      <th>tea_GT</th>\n",
       "    </tr>\n",
       "  </thead>\n",
       "  <tbody>\n",
       "    <tr>\n",
       "      <th>0</th>\n",
       "      <td>1</td>\n",
       "      <td>2</td>\n",
       "      <td>1.0</td>\n",
       "      <td>0.0</td>\n",
       "      <td>0.0</td>\n",
       "    </tr>\n",
       "    <tr>\n",
       "      <th>1</th>\n",
       "      <td>1</td>\n",
       "      <td>2</td>\n",
       "      <td>1.0</td>\n",
       "      <td>0.0</td>\n",
       "      <td>0.0</td>\n",
       "    </tr>\n",
       "    <tr>\n",
       "      <th>2</th>\n",
       "      <td>1</td>\n",
       "      <td>5</td>\n",
       "      <td>1.0</td>\n",
       "      <td>0.0</td>\n",
       "      <td>0.0</td>\n",
       "    </tr>\n",
       "    <tr>\n",
       "      <th>3</th>\n",
       "      <td>1</td>\n",
       "      <td>5</td>\n",
       "      <td>1.0</td>\n",
       "      <td>0.0</td>\n",
       "      <td>0.0</td>\n",
       "    </tr>\n",
       "    <tr>\n",
       "      <th>4</th>\n",
       "      <td>1</td>\n",
       "      <td>10</td>\n",
       "      <td>1.0</td>\n",
       "      <td>0.0</td>\n",
       "      <td>0.0</td>\n",
       "    </tr>\n",
       "    <tr>\n",
       "      <th>...</th>\n",
       "      <td>...</td>\n",
       "      <td>...</td>\n",
       "      <td>...</td>\n",
       "      <td>...</td>\n",
       "      <td>...</td>\n",
       "    </tr>\n",
       "    <tr>\n",
       "      <th>163</th>\n",
       "      <td>3</td>\n",
       "      <td>30</td>\n",
       "      <td>0.0</td>\n",
       "      <td>1.0</td>\n",
       "      <td>0.0</td>\n",
       "    </tr>\n",
       "    <tr>\n",
       "      <th>164</th>\n",
       "      <td>3</td>\n",
       "      <td>45</td>\n",
       "      <td>0.0</td>\n",
       "      <td>1.0</td>\n",
       "      <td>0.0</td>\n",
       "    </tr>\n",
       "    <tr>\n",
       "      <th>165</th>\n",
       "      <td>3</td>\n",
       "      <td>45</td>\n",
       "      <td>0.0</td>\n",
       "      <td>1.0</td>\n",
       "      <td>0.0</td>\n",
       "    </tr>\n",
       "    <tr>\n",
       "      <th>166</th>\n",
       "      <td>3</td>\n",
       "      <td>60</td>\n",
       "      <td>0.0</td>\n",
       "      <td>1.0</td>\n",
       "      <td>0.0</td>\n",
       "    </tr>\n",
       "    <tr>\n",
       "      <th>167</th>\n",
       "      <td>3</td>\n",
       "      <td>60</td>\n",
       "      <td>0.0</td>\n",
       "      <td>1.0</td>\n",
       "      <td>0.0</td>\n",
       "    </tr>\n",
       "  </tbody>\n",
       "</table>\n",
       "<p>168 rows × 5 columns</p>\n",
       "</div>"
      ],
      "text/plain": [
       "     Concentration  time  tea_BT  tea_GC  tea_GT\n",
       "0                1     2     1.0     0.0     0.0\n",
       "1                1     2     1.0     0.0     0.0\n",
       "2                1     5     1.0     0.0     0.0\n",
       "3                1     5     1.0     0.0     0.0\n",
       "4                1    10     1.0     0.0     0.0\n",
       "..             ...   ...     ...     ...     ...\n",
       "163              3    30     0.0     1.0     0.0\n",
       "164              3    45     0.0     1.0     0.0\n",
       "165              3    45     0.0     1.0     0.0\n",
       "166              3    60     0.0     1.0     0.0\n",
       "167              3    60     0.0     1.0     0.0\n",
       "\n",
       "[168 rows x 5 columns]"
      ]
     },
     "execution_count": 5,
     "metadata": {},
     "output_type": "execute_result"
    }
   ],
   "source": [
    "X"
   ]
  },
  {
   "cell_type": "markdown",
   "id": "142ba94a",
   "metadata": {},
   "source": [
    "### 標準化  \n",
    "機械学習モデルはデータのスケールに敏感であるため、データを標準化することが重要です。標準化とは、各特徴量を平均0、標準偏差1にスケーリングする手法で、異なるスケールを持つ特徴量を均等に扱えるようにします。これにより、モデルが特徴量のスケールに影響されず、データ全体の構造を正確に反映することが可能になります。\n",
    "\n",
    "標準化は、pythonではScikit-learnライブラリで提供されている`StandardScaler`クラスで、データの標準化を簡単に行うことができます。"
   ]
  },
  {
   "cell_type": "code",
   "execution_count": 6,
   "id": "dcbfaad7",
   "metadata": {},
   "outputs": [],
   "source": [
    "# データの標準化\n",
    "scaler = StandardScaler()\n",
    "X_scaled = scaler.fit_transform(X)"
   ]
  },
  {
   "cell_type": "markdown",
   "id": "00d95201",
   "metadata": {},
   "source": [
    "### データセットの分割（Data set splitting）\n",
    "機械学習モデルの性能を正確に評価するためには、モデルを学習させる**訓練データ**と、学習済みのモデルの性能を評価するための**テストデータ**にデータを分割する必要があります。scikit-learnのtrain_test_split()関数を使用すると、この分割を簡単に実行できます。ここでの引数は`test_size=0.2`として訓練データ：0.8、テストデータ：0.2とします。"
   ]
  },
  {
   "cell_type": "code",
   "execution_count": 7,
   "id": "7af98c43-4055-4bcb-8091-f7233c5c87c2",
   "metadata": {},
   "outputs": [],
   "source": [
    "# 教師データと検証データの分割\n",
    "X_train, X_test, y_train, y_test = train_test_split(X_scaled, y, \n",
    "                                                    test_size=0.2, \n",
    "                                                    random_state=42\n",
    "                                                    )"
   ]
  },
  {
   "cell_type": "markdown",
   "id": "1162396f",
   "metadata": {},
   "source": [
    "## 3.機械学習（予測モデル）\n",
    "### 3.1 scikit-learnによる予測モデルの選択（MLR）\n",
    "LinearRegression()クラスは、Scikit-learnライブラリが提供するクラスで、予測型による線形重回帰モデルを構築するために使用されます。"
   ]
  },
  {
   "cell_type": "markdown",
   "id": "6f8db74c",
   "metadata": {},
   "source": [
    "### モデル構築と評価\n",
    "forループを活用して、9つの目的変数(y)に格納されているミネラル成分ごとに多重線形回帰（Multiple Linear Regression, MLR）モデルを構築し、その性能を評価します。モデル評価には、決定係数（R²）、RMSE（平方根平均二乗誤差）、およびMAE（平均絶対誤差）の3つの指標を用いています。目的変数に対するモデルの性能指標（R2、RMSE、MAE）、および学習された回帰係数（Coef）と切片（Intercept）を`mlr_results`変数に格納します。"
   ]
  },
  {
   "cell_type": "code",
   "execution_count": 8,
   "id": "8a2b03ee-7da6-4f60-80c3-9b55a2f150f5",
   "metadata": {},
   "outputs": [],
   "source": [
    "# 多重線形回帰（MLR）のモデル構築と評価\n",
    "mlr_model = LinearRegression()\n",
    "\n",
    "mlr_results = {}\n",
    "\n",
    "for mineral in y.columns:\n",
    "    mlr_model.fit(X_train, y_train[mineral])\n",
    "\n",
    "    y_pred = mlr_model.predict(X_test)\n",
    "    \n",
    "    r2 = r2_score(y_test[mineral], y_pred)\n",
    "    rmse = np.sqrt(mean_squared_error(y_test[mineral], y_pred))\n",
    "    mae = mean_absolute_error(y_test[mineral], y_pred)\n",
    "    \n",
    "    mlr_results[mineral] = {'R2': r2, 'RMSE': rmse, 'MAE': mae, 'Coef': mlr_model.coef_, 'Intercept': mlr_model.intercept_}"
   ]
  },
  {
   "cell_type": "markdown",
   "id": "40e0c64b-383c-48d3-85b9-bf6f8a19d391",
   "metadata": {},
   "source": [
    "### 評価結果の表示\n",
    "mlr_results変数に格納されている各ミネラル成分ごとの多重線形回帰（MLR）モデルの結果を各目的変数（ミネラル成分）ごとに表示します。"
   ]
  },
  {
   "cell_type": "code",
   "execution_count": 9,
   "id": "84d03b1c",
   "metadata": {},
   "outputs": [
    {
     "name": "stdout",
     "output_type": "stream",
     "text": [
      "Al - Coefficients: [3.79023937 1.43132072 2.422908   1.4915705  3.00820455], Intercept: 8.332939758068418\n",
      "R2: 0.7860598485225262, RMSE: 2.095182608221989, MAE: 1.6405828680427006\n",
      "\n",
      "Ca - Coefficients: [0.82831951 0.50689865 0.60567955 0.94928797 0.35196316], Intercept: 6.063938541567816\n",
      "R2: 0.9316957963319135, RMSE: 0.31652730807384644, MAE: 0.24580753656596274\n",
      "\n",
      "Cu - Coefficients: [0.0158984  0.00961836 0.00235734 0.02024182 0.00080977], Intercept: 0.062010195124226244\n",
      "R2: 0.6022344943444129, RMSE: 0.023018847988192325, MAE: 0.017072223559960718\n",
      "\n",
      "Fe - Coefficients: [0.031093   0.03127944 0.04095397 0.04086792 0.03604626], Intercept: 0.1409555974041486\n",
      "R2: 0.7745619365593756, RMSE: 0.024588217217625982, MAE: 0.02036783627774086\n",
      "\n",
      "K - Coefficients: [ 84.6439924   38.63003728 -10.61593612 -47.01264766 -30.12526335], Intercept: 242.08273098181968\n",
      "R2: 0.9066364327056077, RMSE: 28.73240614126902, MAE: 23.273625727622917\n",
      "\n",
      "Mg - Coefficients: [ 5.38707208  4.35945176 -1.60994223 -3.04017305 -1.91642524], Intercept: 14.537053132123068\n",
      "R2: 0.8640284575472903, RMSE: 2.692143098624457, MAE: 2.1342146771044033\n",
      "\n",
      "Mn - Coefficients: [2.17605297 1.67730454 1.76258083 1.18696208 1.68575273], Intercept: 5.540880628319629\n",
      "R2: 0.7353485626348977, RMSE: 1.4189720989780896, MAE: 1.1233593124048102\n",
      "\n",
      "Na - Coefficients: [ 1.0455397   0.91364847 -0.26245836  0.43596009  0.3128295 ], Intercept: 3.3447654287867756\n",
      "R2: 0.8862358480687635, RMSE: 0.5128068783450389, MAE: 0.43180335061808317\n",
      "\n",
      "Zn - Coefficients: [ 0.07099925  0.0477137   0.01485944 -0.00032197  0.01278371], Intercept: 0.2533233861448927\n",
      "R2: 0.7161372619236288, RMSE: 0.0416310824936063, MAE: 0.03309130435490239\n",
      "\n"
     ]
    }
   ],
   "source": [
    "# MLRの結果表示\n",
    "for mineral, result in mlr_results.items():\n",
    "    print(f'{mineral} - Coefficients: {result[\"Coef\"]}, Intercept: {result[\"Intercept\"]}')\n",
    "    print(f'R2: {result[\"R2\"]}, RMSE: {result[\"RMSE\"]}, MAE: {result[\"MAE\"]}\\n')"
   ]
  },
  {
   "cell_type": "markdown",
   "id": "1dd32e80-3524-4df0-ab87-7c85fb8f9678",
   "metadata": {},
   "source": [
    "### 3.2 kerasによる予測モデルの選択（ANN）\n",
    "次に人工ニューラルネットワーク（Artificial Neural Network, ANN）モデルを用いて複数のミネラル成分を予測する方法について解説します。ANNのアーキテクチャは以下の通りで、この構成をKerasのSequential APIを使って実装します。ここでは、各ミネラル成分を個別に予測するため、それぞれの成分に対してANNモデルを個別に構築します。\n",
    "\n",
    "<br>  \n",
    "<img src=\"./img/image2.png\" width=\"50%\">\n",
    "<br> "
   ]
  },
  {
   "cell_type": "markdown",
   "id": "9d61c273",
   "metadata": {},
   "source": [
    "Kerasを用いて人工ニューラルネットワーク（ANN）モデルを構築するbuild_ann_moedel()関数を定義し、都度、呼び出すようにします。"
   ]
  },
  {
   "cell_type": "code",
   "execution_count": 14,
   "id": "3e7acf2d",
   "metadata": {},
   "outputs": [],
   "source": [
    "# モデル構築の関数化\n",
    "def build_ann_model(input_dim):\n",
    "    model = Sequential()\n",
    "    model.add(Input(shape=(input_dim,))) \n",
    "    model.add(LeakyReLU())\n",
    "    model.add(Dense(18))\n",
    "    model.add(LeakyReLU())\n",
    "    model.add(Dense(8))\n",
    "    model.add(LeakyReLU())\n",
    "    model.add(Dense(12))\n",
    "    model.add(LeakyReLU())\n",
    "    model.add(Dense(18))\n",
    "    model.add(LeakyReLU())\n",
    "    model.add(Dense(1))\n",
    "    \n",
    "    model.compile(optimizer=Adam(learning_rate=0.0112), loss='mse')\n",
    "    \n",
    "    return model"
   ]
  },
  {
   "cell_type": "markdown",
   "id": "dd7c1dda",
   "metadata": {},
   "source": [
    "入力次元（input_dim）を指定すると、18ノードの入力層、8ノードと12ノードの中間層（隠れ層）、および18ノードの出力層が順次追加されます。各層には非線形活性化関数としてLeakyReLUが適用され、最後に単一出力の回帰モデルが形成されます。モデルはAdamオプティマイザとmse（平均二乗誤差）損失関数でコンパイルされています。この関数により、柔軟に構築されたANNモデルを返します。"
   ]
  },
  {
   "cell_type": "code",
   "execution_count": 15,
   "id": "9a634a75",
   "metadata": {},
   "outputs": [
    {
     "data": {
      "text/html": [
       "<pre style=\"white-space:pre;overflow-x:auto;line-height:normal;font-family:Menlo,'DejaVu Sans Mono',consolas,'Courier New',monospace\"><span style=\"font-weight: bold\">Model: \"sequential_10\"</span>\n",
       "</pre>\n"
      ],
      "text/plain": [
       "\u001b[1mModel: \"sequential_10\"\u001b[0m\n"
      ]
     },
     "metadata": {},
     "output_type": "display_data"
    },
    {
     "data": {
      "text/html": [
       "<pre style=\"white-space:pre;overflow-x:auto;line-height:normal;font-family:Menlo,'DejaVu Sans Mono',consolas,'Courier New',monospace\">┏━━━━━━━━━━━━━━━━━━━━━━━━━━━━━━━━━┳━━━━━━━━━━━━━━━━━━━━━━━━┳━━━━━━━━━━━━━━━┓\n",
       "┃<span style=\"font-weight: bold\"> Layer (type)                    </span>┃<span style=\"font-weight: bold\"> Output Shape           </span>┃<span style=\"font-weight: bold\">       Param # </span>┃\n",
       "┡━━━━━━━━━━━━━━━━━━━━━━━━━━━━━━━━━╇━━━━━━━━━━━━━━━━━━━━━━━━╇━━━━━━━━━━━━━━━┩\n",
       "│ leaky_re_lu_40 (<span style=\"color: #0087ff; text-decoration-color: #0087ff\">LeakyReLU</span>)      │ (<span style=\"color: #00d7ff; text-decoration-color: #00d7ff\">None</span>, <span style=\"color: #00af00; text-decoration-color: #00af00\">5</span>)              │             <span style=\"color: #00af00; text-decoration-color: #00af00\">0</span> │\n",
       "├─────────────────────────────────┼────────────────────────┼───────────────┤\n",
       "│ dense_40 (<span style=\"color: #0087ff; text-decoration-color: #0087ff\">Dense</span>)                │ (<span style=\"color: #00d7ff; text-decoration-color: #00d7ff\">None</span>, <span style=\"color: #00af00; text-decoration-color: #00af00\">18</span>)             │           <span style=\"color: #00af00; text-decoration-color: #00af00\">108</span> │\n",
       "├─────────────────────────────────┼────────────────────────┼───────────────┤\n",
       "│ leaky_re_lu_41 (<span style=\"color: #0087ff; text-decoration-color: #0087ff\">LeakyReLU</span>)      │ (<span style=\"color: #00d7ff; text-decoration-color: #00d7ff\">None</span>, <span style=\"color: #00af00; text-decoration-color: #00af00\">18</span>)             │             <span style=\"color: #00af00; text-decoration-color: #00af00\">0</span> │\n",
       "├─────────────────────────────────┼────────────────────────┼───────────────┤\n",
       "│ dense_41 (<span style=\"color: #0087ff; text-decoration-color: #0087ff\">Dense</span>)                │ (<span style=\"color: #00d7ff; text-decoration-color: #00d7ff\">None</span>, <span style=\"color: #00af00; text-decoration-color: #00af00\">8</span>)              │           <span style=\"color: #00af00; text-decoration-color: #00af00\">152</span> │\n",
       "├─────────────────────────────────┼────────────────────────┼───────────────┤\n",
       "│ leaky_re_lu_42 (<span style=\"color: #0087ff; text-decoration-color: #0087ff\">LeakyReLU</span>)      │ (<span style=\"color: #00d7ff; text-decoration-color: #00d7ff\">None</span>, <span style=\"color: #00af00; text-decoration-color: #00af00\">8</span>)              │             <span style=\"color: #00af00; text-decoration-color: #00af00\">0</span> │\n",
       "├─────────────────────────────────┼────────────────────────┼───────────────┤\n",
       "│ dense_42 (<span style=\"color: #0087ff; text-decoration-color: #0087ff\">Dense</span>)                │ (<span style=\"color: #00d7ff; text-decoration-color: #00d7ff\">None</span>, <span style=\"color: #00af00; text-decoration-color: #00af00\">12</span>)             │           <span style=\"color: #00af00; text-decoration-color: #00af00\">108</span> │\n",
       "├─────────────────────────────────┼────────────────────────┼───────────────┤\n",
       "│ leaky_re_lu_43 (<span style=\"color: #0087ff; text-decoration-color: #0087ff\">LeakyReLU</span>)      │ (<span style=\"color: #00d7ff; text-decoration-color: #00d7ff\">None</span>, <span style=\"color: #00af00; text-decoration-color: #00af00\">12</span>)             │             <span style=\"color: #00af00; text-decoration-color: #00af00\">0</span> │\n",
       "├─────────────────────────────────┼────────────────────────┼───────────────┤\n",
       "│ dense_43 (<span style=\"color: #0087ff; text-decoration-color: #0087ff\">Dense</span>)                │ (<span style=\"color: #00d7ff; text-decoration-color: #00d7ff\">None</span>, <span style=\"color: #00af00; text-decoration-color: #00af00\">18</span>)             │           <span style=\"color: #00af00; text-decoration-color: #00af00\">234</span> │\n",
       "├─────────────────────────────────┼────────────────────────┼───────────────┤\n",
       "│ leaky_re_lu_44 (<span style=\"color: #0087ff; text-decoration-color: #0087ff\">LeakyReLU</span>)      │ (<span style=\"color: #00d7ff; text-decoration-color: #00d7ff\">None</span>, <span style=\"color: #00af00; text-decoration-color: #00af00\">18</span>)             │             <span style=\"color: #00af00; text-decoration-color: #00af00\">0</span> │\n",
       "├─────────────────────────────────┼────────────────────────┼───────────────┤\n",
       "│ dense_44 (<span style=\"color: #0087ff; text-decoration-color: #0087ff\">Dense</span>)                │ (<span style=\"color: #00d7ff; text-decoration-color: #00d7ff\">None</span>, <span style=\"color: #00af00; text-decoration-color: #00af00\">1</span>)              │            <span style=\"color: #00af00; text-decoration-color: #00af00\">19</span> │\n",
       "└─────────────────────────────────┴────────────────────────┴───────────────┘\n",
       "</pre>\n"
      ],
      "text/plain": [
       "┏━━━━━━━━━━━━━━━━━━━━━━━━━━━━━━━━━┳━━━━━━━━━━━━━━━━━━━━━━━━┳━━━━━━━━━━━━━━━┓\n",
       "┃\u001b[1m \u001b[0m\u001b[1mLayer (type)                   \u001b[0m\u001b[1m \u001b[0m┃\u001b[1m \u001b[0m\u001b[1mOutput Shape          \u001b[0m\u001b[1m \u001b[0m┃\u001b[1m \u001b[0m\u001b[1m      Param #\u001b[0m\u001b[1m \u001b[0m┃\n",
       "┡━━━━━━━━━━━━━━━━━━━━━━━━━━━━━━━━━╇━━━━━━━━━━━━━━━━━━━━━━━━╇━━━━━━━━━━━━━━━┩\n",
       "│ leaky_re_lu_40 (\u001b[38;5;33mLeakyReLU\u001b[0m)      │ (\u001b[38;5;45mNone\u001b[0m, \u001b[38;5;34m5\u001b[0m)              │             \u001b[38;5;34m0\u001b[0m │\n",
       "├─────────────────────────────────┼────────────────────────┼───────────────┤\n",
       "│ dense_40 (\u001b[38;5;33mDense\u001b[0m)                │ (\u001b[38;5;45mNone\u001b[0m, \u001b[38;5;34m18\u001b[0m)             │           \u001b[38;5;34m108\u001b[0m │\n",
       "├─────────────────────────────────┼────────────────────────┼───────────────┤\n",
       "│ leaky_re_lu_41 (\u001b[38;5;33mLeakyReLU\u001b[0m)      │ (\u001b[38;5;45mNone\u001b[0m, \u001b[38;5;34m18\u001b[0m)             │             \u001b[38;5;34m0\u001b[0m │\n",
       "├─────────────────────────────────┼────────────────────────┼───────────────┤\n",
       "│ dense_41 (\u001b[38;5;33mDense\u001b[0m)                │ (\u001b[38;5;45mNone\u001b[0m, \u001b[38;5;34m8\u001b[0m)              │           \u001b[38;5;34m152\u001b[0m │\n",
       "├─────────────────────────────────┼────────────────────────┼───────────────┤\n",
       "│ leaky_re_lu_42 (\u001b[38;5;33mLeakyReLU\u001b[0m)      │ (\u001b[38;5;45mNone\u001b[0m, \u001b[38;5;34m8\u001b[0m)              │             \u001b[38;5;34m0\u001b[0m │\n",
       "├─────────────────────────────────┼────────────────────────┼───────────────┤\n",
       "│ dense_42 (\u001b[38;5;33mDense\u001b[0m)                │ (\u001b[38;5;45mNone\u001b[0m, \u001b[38;5;34m12\u001b[0m)             │           \u001b[38;5;34m108\u001b[0m │\n",
       "├─────────────────────────────────┼────────────────────────┼───────────────┤\n",
       "│ leaky_re_lu_43 (\u001b[38;5;33mLeakyReLU\u001b[0m)      │ (\u001b[38;5;45mNone\u001b[0m, \u001b[38;5;34m12\u001b[0m)             │             \u001b[38;5;34m0\u001b[0m │\n",
       "├─────────────────────────────────┼────────────────────────┼───────────────┤\n",
       "│ dense_43 (\u001b[38;5;33mDense\u001b[0m)                │ (\u001b[38;5;45mNone\u001b[0m, \u001b[38;5;34m18\u001b[0m)             │           \u001b[38;5;34m234\u001b[0m │\n",
       "├─────────────────────────────────┼────────────────────────┼───────────────┤\n",
       "│ leaky_re_lu_44 (\u001b[38;5;33mLeakyReLU\u001b[0m)      │ (\u001b[38;5;45mNone\u001b[0m, \u001b[38;5;34m18\u001b[0m)             │             \u001b[38;5;34m0\u001b[0m │\n",
       "├─────────────────────────────────┼────────────────────────┼───────────────┤\n",
       "│ dense_44 (\u001b[38;5;33mDense\u001b[0m)                │ (\u001b[38;5;45mNone\u001b[0m, \u001b[38;5;34m1\u001b[0m)              │            \u001b[38;5;34m19\u001b[0m │\n",
       "└─────────────────────────────────┴────────────────────────┴───────────────┘\n"
      ]
     },
     "metadata": {},
     "output_type": "display_data"
    },
    {
     "data": {
      "text/html": [
       "<pre style=\"white-space:pre;overflow-x:auto;line-height:normal;font-family:Menlo,'DejaVu Sans Mono',consolas,'Courier New',monospace\"><span style=\"font-weight: bold\"> Total params: </span><span style=\"color: #00af00; text-decoration-color: #00af00\">621</span> (2.43 KB)\n",
       "</pre>\n"
      ],
      "text/plain": [
       "\u001b[1m Total params: \u001b[0m\u001b[38;5;34m621\u001b[0m (2.43 KB)\n"
      ]
     },
     "metadata": {},
     "output_type": "display_data"
    },
    {
     "data": {
      "text/html": [
       "<pre style=\"white-space:pre;overflow-x:auto;line-height:normal;font-family:Menlo,'DejaVu Sans Mono',consolas,'Courier New',monospace\"><span style=\"font-weight: bold\"> Trainable params: </span><span style=\"color: #00af00; text-decoration-color: #00af00\">621</span> (2.43 KB)\n",
       "</pre>\n"
      ],
      "text/plain": [
       "\u001b[1m Trainable params: \u001b[0m\u001b[38;5;34m621\u001b[0m (2.43 KB)\n"
      ]
     },
     "metadata": {},
     "output_type": "display_data"
    },
    {
     "data": {
      "text/html": [
       "<pre style=\"white-space:pre;overflow-x:auto;line-height:normal;font-family:Menlo,'DejaVu Sans Mono',consolas,'Courier New',monospace\"><span style=\"font-weight: bold\"> Non-trainable params: </span><span style=\"color: #00af00; text-decoration-color: #00af00\">0</span> (0.00 B)\n",
       "</pre>\n"
      ],
      "text/plain": [
       "\u001b[1m Non-trainable params: \u001b[0m\u001b[38;5;34m0\u001b[0m (0.00 B)\n"
      ]
     },
     "metadata": {},
     "output_type": "display_data"
    }
   ],
   "source": [
    "ann_model = build_ann_model(X_train.shape[1])\n",
    "ann_model.summary()"
   ]
  },
  {
   "cell_type": "markdown",
   "id": "1d175ee0",
   "metadata": {},
   "source": [
    "### 解説：\n",
    "\n",
    "このコードは、人工ニューラルネットワーク（ANN）モデルを使って複数のミネラルを予測するために、各ミネラルに対してANNモデルを個別に構築し、訓練しています。以下に、コードの各部分を解説します。\n",
    "\n",
    "`Sequential`モデルを関数にまとめることで、コードの再利用性を向上させることができます。以下は、Kerasの`Sequential`モデルを構築する部分を関数化したコードです。\n",
    "- `build_ann_model(input_dim)` 関数：\n",
    "  - 入力次元を引数として受け取り、指定された構造のANNモデルを構築します。\n",
    "  - `Dense`レイヤーと`LeakyReLU`アクティベーション関数を順に追加し、最後に出力層を作成しています。\n",
    "  - モデルは`Adam`オプティマイザーとMSE損失関数を使ってコンパイルされます。\n",
    "\n",
    "\n",
    "#### ANNモデルの構築\n",
    "```python\n",
    "  ann_model = Sequential()\n",
    "  ann_model.add(Input(shape=(input_dim,))) \n",
    "  ann_model.add(LeakyReLU())\n",
    "```\n",
    "- `Sequential()`：モデルを順に層を積み重ねるためのKerasの基本的なモデル構造です。\n",
    "- `Input(shape=(input_dim,))`：全結合層（Dense層）を追加しています。入力次元は特徴量の数に一致します（input_dim = `X_train.shape[1]` で入力層の次元数を指定）。\n",
    "- `LeakyReLU()`：活性化関数としてLeaky ReLUを使用しています。ReLUは負の入力に対して0を出力する一方、Leaky ReLUはわずかな負のスロープを持ち、学習が進みやすくなる利点があります。\n",
    "\n",
    "#### 隠れ層の追加\n",
    "```python\n",
    "    model.add(Dense(18))\n",
    "    model.add(LeakyReLU())\n",
    "    model.add(Dense(8))\n",
    "    model.add(LeakyReLU())\n",
    "    model.add(Dense(12))\n",
    "    model.add(LeakyReLU())\n",
    "    model.add(Dense(18))\n",
    "    model.add(LeakyReLU())\n",
    "```\n",
    "- モデルには4つの隠れ層があり、それぞれ18, 8、12、18個のニューロンを持ちます。各層の後には `LeakyReLU` が活性化関数として追加されています。これにより、ネットワークが非線形性を学習しやすくなっています。\n",
    "\n",
    "#### 出力層\n",
    "```python\n",
    "ann_model.add(Dense(1))\n",
    "```\n",
    "- 最終層は1つのニューロンを持つ出力層です。ここで、単一の予測値（各ミネラルの濃度）を出力します。\n",
    "\n",
    "#### モデルのコンパイル\n",
    "```python\n",
    "ann_model.compile(optimizer=Adam(learning_rate=0.0112), loss='mse')\n",
    "```\n",
    "- `Adam(learning_rate=0.0112)`：Adamオプティマイザーを使用し、学習率を0.0112に設定しています。Adamは学習効率が高く、一般的にANNでよく使用される最適化手法です。\n",
    "- `loss='mse'`：損失関数として平均二乗誤差（MSE）を使用しています。これは回帰問題に適した損失関数です。\n",
    "  "
   ]
  },
  {
   "cell_type": "markdown",
   "id": "80337bab",
   "metadata": {},
   "source": [
    "### モデル構築と評価\n",
    "各ミネラルについて、事前に定義したbuild_ann_model関数でモデルを構築し、トレーニングデータを用いて100エポック訓練します。テストデータに対する予測値から、決定係数（R²）、平方根平均二乗誤差（RMSE）、および平均絶対誤差（MAE）を算出し、結果を辞書ann_resultsに保存します。このプロセスは各ミネラル成分に対して繰り返されます。"
   ]
  },
  {
   "cell_type": "code",
   "execution_count": 16,
   "id": "97776561",
   "metadata": {},
   "outputs": [
    {
     "name": "stdout",
     "output_type": "stream",
     "text": [
      "\u001b[1m2/2\u001b[0m \u001b[32m━━━━━━━━━━━━━━━━━━━━\u001b[0m\u001b[37m\u001b[0m \u001b[1m0s\u001b[0m 38ms/step\n",
      "\u001b[1m2/2\u001b[0m \u001b[32m━━━━━━━━━━━━━━━━━━━━\u001b[0m\u001b[37m\u001b[0m \u001b[1m0s\u001b[0m 47ms/step\n",
      "\u001b[1m2/2\u001b[0m \u001b[32m━━━━━━━━━━━━━━━━━━━━\u001b[0m\u001b[37m\u001b[0m \u001b[1m0s\u001b[0m 52ms/step\n",
      "\u001b[1m2/2\u001b[0m \u001b[32m━━━━━━━━━━━━━━━━━━━━\u001b[0m\u001b[37m\u001b[0m \u001b[1m0s\u001b[0m 91ms/step\n",
      "\u001b[1m2/2\u001b[0m \u001b[32m━━━━━━━━━━━━━━━━━━━━\u001b[0m\u001b[37m\u001b[0m \u001b[1m0s\u001b[0m 43ms/step\n",
      "\u001b[1m2/2\u001b[0m \u001b[32m━━━━━━━━━━━━━━━━━━━━\u001b[0m\u001b[37m\u001b[0m \u001b[1m0s\u001b[0m 40ms/step\n",
      "\u001b[1m2/2\u001b[0m \u001b[32m━━━━━━━━━━━━━━━━━━━━\u001b[0m\u001b[37m\u001b[0m \u001b[1m0s\u001b[0m 35ms/step\n",
      "\u001b[1m2/2\u001b[0m \u001b[32m━━━━━━━━━━━━━━━━━━━━\u001b[0m\u001b[37m\u001b[0m \u001b[1m0s\u001b[0m 39ms/step\n",
      "\u001b[1m2/2\u001b[0m \u001b[32m━━━━━━━━━━━━━━━━━━━━\u001b[0m\u001b[37m\u001b[0m \u001b[1m0s\u001b[0m 55ms/step\n"
     ]
    }
   ],
   "source": [
    "# ANNモデルの構築と評価\n",
    "ann_results = {}\n",
    "\n",
    "# 各ミネラルに対してモデルを訓練\n",
    "for mineral in y.columns:\n",
    "    ann_model = build_ann_model(X_train.shape[1])\n",
    "    ann_model.fit(X_train, y_train[mineral], epochs=100, verbose=0)\n",
    "\n",
    "    y_pred = ann_model.predict(X_test)\n",
    "\n",
    "    r2 = r2_score(y_test[mineral], y_pred)\n",
    "    rmse = np.sqrt(mean_squared_error(y_test[mineral], y_pred))\n",
    "    mae = mean_absolute_error(y_test[mineral], y_pred)\n",
    "\n",
    "    ann_results[mineral] = {'R2': r2, 'RMSE': rmse, 'MAE': mae}"
   ]
  },
  {
   "cell_type": "markdown",
   "id": "3a61bc29",
   "metadata": {},
   "source": [
    "【解説】\n",
    "- モデルを訓練データ `X_train` と各ミネラルのターゲットデータ `y_train[mineral]` を使用して学習させます。\n",
    "- `epochs=100`：100エポック分、モデルを繰り返し訓練します。\n",
    "- `verbose=0`：訓練中の出力を抑制しています。\n",
    "\n",
    "このようにして、各ミネラルに対してANNモデルが構築・訓練され、それぞれの予測結果が`ann_results`に保存されることが想定されています。"
   ]
  },
  {
   "cell_type": "markdown",
   "id": "f449dd2d-659f-4d82-b49a-f0ab47d6296f",
   "metadata": {},
   "source": [
    "### 評価結果の表示\n",
    "ann_results変数に格納されている各ミネラル成分ごとの人工ニューラルネットワーク（ANN）モデルの結果を各目的変数（ミネラル成分）ごとに表示させます。"
   ]
  },
  {
   "cell_type": "code",
   "execution_count": 17,
   "id": "5455f8d9",
   "metadata": {},
   "outputs": [
    {
     "name": "stdout",
     "output_type": "stream",
     "text": [
      "Al - R2: 0.9533437299651805, RMSE: 0.9784322046959174, MAE: 0.6958892866022448\n",
      "\n",
      "Ca - R2: 0.9209241140015427, RMSE: 0.34057244044381757, MAE: 0.2723775706796085\n",
      "\n",
      "Cu - R2: 0.7926877388558237, RMSE: 0.016618144081716628, MAE: 0.011838683974816518\n",
      "\n",
      "Fe - R2: 0.9019128353173091, RMSE: 0.016218829527059716, MAE: 0.013470030325669381\n",
      "\n",
      "K - R2: 0.8025480199066556, RMSE: 41.78438599466305, MAE: 33.40428255866556\n",
      "\n",
      "Mg - R2: 0.9879400774985075, RMSE: 0.8017636954392116, MAE: 0.6413118534873514\n",
      "\n",
      "Mn - R2: 0.9443344211892712, RMSE: 0.6507738481566887, MAE: 0.4146259260738596\n",
      "\n",
      "Na - R2: 0.9879566819706869, RMSE: 0.16684922834778276, MAE: 0.13362499506333292\n",
      "\n",
      "Zn - R2: 0.9323192928798181, RMSE: 0.020328060920087137, MAE: 0.016349280714988708\n",
      "\n"
     ]
    }
   ],
   "source": [
    "# ANNの結果表示\n",
    "for mineral, result in ann_results.items():\n",
    "    print(f'{mineral} - R2: {result[\"R2\"]}, RMSE: {result[\"RMSE\"]}, MAE: {result[\"MAE\"]}\\n')"
   ]
  },
  {
   "cell_type": "markdown",
   "id": "2e29a96c",
   "metadata": {},
   "source": [
    "### モデル性能の考察\n",
    "\n",
    "多重線形回帰（MLR）モデルと人工ニューラルネットワーク（ANN）モデルを比較すると、ANNモデルは全ての指標においてMLRモデルを上回る性能を示しています。まず、決定係数（R²）についてみてみると、ANNモデルのR²は、すべてのミネラル成分で0.89以上を記録しており、特にAl（0.98）やCa（0.97）などで非常に高い値を示しています。一方、MLRモデルではR²が0.60〜0.93の範囲で、CuやZnのような要因では予測性能が低下しています。この結果は、ANNが非線形な関係性を捉える能力を持つため、MLRでは捉えきれないデータの複雑なパターンを学習できることを示しています。\n"
   ]
  }
 ],
 "metadata": {
  "kernelspec": {
   "display_name": "Python 3 (ipykernel)",
   "language": "python",
   "name": "python3"
  },
  "language_info": {
   "codemirror_mode": {
    "name": "ipython",
    "version": 3
   },
   "file_extension": ".py",
   "mimetype": "text/x-python",
   "name": "python",
   "nbconvert_exporter": "python",
   "pygments_lexer": "ipython3",
   "version": "3.12.4"
  },
  "widgets": {
   "application/vnd.jupyter.widget-state+json": {
    "state": {},
    "version_major": 2,
    "version_minor": 0
   }
  }
 },
 "nbformat": 4,
 "nbformat_minor": 5
}
